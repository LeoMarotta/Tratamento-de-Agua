{
  "nbformat": 4,
  "nbformat_minor": 0,
  "metadata": {
    "colab": {
      "provenance": [],
      "include_colab_link": true
    },
    "kernelspec": {
      "name": "python3",
      "display_name": "Python 3"
    },
    "language_info": {
      "name": "python"
    }
  },
  "cells": [
    {
      "cell_type": "markdown",
      "metadata": {
        "id": "view-in-github",
        "colab_type": "text"
      },
      "source": [
        "<a href=\"https://colab.research.google.com/github/LeoMarotta/Tratamento-de-Agua/blob/main/TratamentoDeAguaHehe.ipynb\" target=\"_parent\"><img src=\"https://colab.research.google.com/assets/colab-badge.svg\" alt=\"Open In Colab\"/></a>"
      ]
    },
    {
      "cell_type": "code",
      "source": [
        "import pandas as pd\n",
        "import glob, os"
      ],
      "metadata": {
        "id": "ex9fmyDvycdy"
      },
      "execution_count": null,
      "outputs": []
    },
    {
      "cell_type": "code",
      "source": [
        "def run(filename):\n",
        "  '''\n",
        "    TRATAMENTO DO ARQUIVO PRINCIPAL\n",
        "  '''\n",
        "  df = pd.read_csv(filename, sep=(\"|\"), encoding='iso-8859-1', index_col=False)\n",
        "  df = df.drop([0,1,2,3,4,5,6])\n",
        "  df.columns = ['coluna']\n",
        "  df = df.explode('coluna')\n",
        "  df = df.melt()\n",
        "  df = df.dropna()\n",
        "  df = df['value'].str.split(';', expand=True)\n",
        "  df.columns = df.iloc[0]\n",
        "  df = df.drop([0])\n",
        "  '''\n",
        "    TRATAMENTO DAS LINHAS INICIAIS\n",
        "  '''\n",
        "  header = pd.read_csv(filename, sep=(\";\"), encoding='iso-8859-1', nrows=7, header=None)\n",
        "  header = header.T\n",
        "  header.columns = header.iloc[0]\n",
        "  header = header.drop([0])\n",
        "  columns = header.columns\n",
        "  columns = [c.replace(':','') for c in columns]\n",
        "  header.columns = columns\n",
        "  '''\n",
        "    JOIN MUITO LOUCO\n",
        "  '''\n",
        "  for c in columns:\n",
        "    df[c] = header[c]\n",
        "    df[c] = df[c].iloc[0]\n",
        "\n",
        "  filename = filename.split('.')[0]\n",
        "  df.to_excel(f'{filename}.xlsx', index=None, header=False)\n",
        "\n",
        "# directory_path = r'C:\\Users\\MAQUINA\\Desktop\\bases'\n",
        "# directory_path = r'SUBSTITUIR PELO CAMINHO COMPLETO ATE A PASTA'\n",
        "directory_path = r'C:'\n",
        "csv_files = [file for file in os.listdir(directory_path) if file.endswith('.csv')]\n",
        "for file in csv_files:\n",
        "  run(os.path.join(directory_path, file))"
      ],
      "metadata": {
        "colab": {
          "base_uri": "https://localhost:8080/",
          "height": 244
        },
        "id": "k4yllgEPi6nz",
        "outputId": "c166d438-4381-4013-e6fa-ed0d7e5f74ca"
      },
      "execution_count": null,
      "outputs": [
        {
          "output_type": "error",
          "ename": "FileNotFoundError",
          "evalue": "ignored",
          "traceback": [
            "\u001b[0;31m---------------------------------------------------------------------------\u001b[0m",
            "\u001b[0;31mFileNotFoundError\u001b[0m                         Traceback (most recent call last)",
            "\u001b[0;32m<ipython-input-30-cb9021127edd>\u001b[0m in \u001b[0;36m<cell line: 35>\u001b[0;34m()\u001b[0m\n\u001b[1;32m     33\u001b[0m \u001b[0;34m\u001b[0m\u001b[0m\n\u001b[1;32m     34\u001b[0m \u001b[0mdirectory_path\u001b[0m \u001b[0;34m=\u001b[0m \u001b[0;34mr'C:\\Users\\980119\\Desktop\\bases'\u001b[0m\u001b[0;34m\u001b[0m\u001b[0;34m\u001b[0m\u001b[0m\n\u001b[0;32m---> 35\u001b[0;31m \u001b[0mcsv_files\u001b[0m \u001b[0;34m=\u001b[0m \u001b[0;34m[\u001b[0m\u001b[0mfile\u001b[0m \u001b[0;32mfor\u001b[0m \u001b[0mfile\u001b[0m \u001b[0;32min\u001b[0m \u001b[0mos\u001b[0m\u001b[0;34m.\u001b[0m\u001b[0mlistdir\u001b[0m\u001b[0;34m(\u001b[0m\u001b[0mdirectory_path\u001b[0m\u001b[0;34m)\u001b[0m \u001b[0;32mif\u001b[0m \u001b[0mfile\u001b[0m\u001b[0;34m.\u001b[0m\u001b[0mendswith\u001b[0m\u001b[0;34m(\u001b[0m\u001b[0;34m'.csv'\u001b[0m\u001b[0;34m)\u001b[0m\u001b[0;34m]\u001b[0m\u001b[0;34m\u001b[0m\u001b[0;34m\u001b[0m\u001b[0m\n\u001b[0m\u001b[1;32m     36\u001b[0m \u001b[0;32mfor\u001b[0m \u001b[0mfile\u001b[0m \u001b[0;32min\u001b[0m \u001b[0mcsv_files\u001b[0m\u001b[0;34m:\u001b[0m\u001b[0;34m\u001b[0m\u001b[0;34m\u001b[0m\u001b[0m\n\u001b[1;32m     37\u001b[0m   \u001b[0mprint\u001b[0m\u001b[0;34m(\u001b[0m\u001b[0mos\u001b[0m\u001b[0;34m.\u001b[0m\u001b[0mpath\u001b[0m\u001b[0;34m.\u001b[0m\u001b[0mjoin\u001b[0m\u001b[0;34m(\u001b[0m\u001b[0mdirectory_path\u001b[0m\u001b[0;34m,\u001b[0m \u001b[0mfile\u001b[0m\u001b[0;34m)\u001b[0m\u001b[0;34m)\u001b[0m\u001b[0;34m\u001b[0m\u001b[0;34m\u001b[0m\u001b[0m\n",
            "\u001b[0;31mFileNotFoundError\u001b[0m: [Errno 2] No such file or directory: 'C:\\\\Users\\\\980119\\\\Desktop\\\\bases'"
          ]
        }
      ]
    }
  ]
}